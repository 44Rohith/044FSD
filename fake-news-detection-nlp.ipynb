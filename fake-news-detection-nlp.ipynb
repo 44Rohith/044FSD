{
 "cells": [
  {
   "cell_type": "code",
   "execution_count": 1,
   "id": "3fec3a9d",
   "metadata": {
    "_cell_guid": "b1076dfc-b9ad-4769-8c92-a6c4dae69d19",
    "_uuid": "8f2839f25d086af736a60e9eeb907d3b93b6e0e5",
    "execution": {
     "iopub.execute_input": "2023-08-25T15:36:54.871628Z",
     "iopub.status.busy": "2023-08-25T15:36:54.870168Z",
     "iopub.status.idle": "2023-08-25T15:36:54.893729Z",
     "shell.execute_reply": "2023-08-25T15:36:54.892916Z",
     "shell.execute_reply.started": "2023-08-25T14:14:47.608165Z"
    },
    "papermill": {
     "duration": 0.044739,
     "end_time": "2023-08-25T15:36:54.893975",
     "exception": false,
     "start_time": "2023-08-25T15:36:54.849236",
     "status": "completed"
    },
    "tags": []
   },
   "outputs": [
    {
     "name": "stdout",
     "output_type": "stream",
     "text": [
      "/kaggle/input/fake-and-real-news-dataset/True.csv\n",
      "/kaggle/input/fake-and-real-news-dataset/Fake.csv\n"
     ]
    }
   ],
   "source": [
    "# This Python 3 environment comes with many helpful analytics libraries installed\n",
    "# It is defined by the kaggle/python Docker image: https://github.com/kaggle/docker-python\n",
    "# For example, here's several helpful packages to load\n",
    "\n",
    "import numpy as np # linear algebra\n",
    "import pandas as pd # data processing, CSV file I/O (e.g. pd.read_csv)\n",
    "\n",
    "# Input data files are available in the read-only \"../input/\" directory\n",
    "# For example, running this (by clicking run or pressing Shift+Enter) will list all files under the input directory\n",
    "\n",
    "import os\n",
    "for dirname, _, filenames in os.walk('/kaggle/input'):\n",
    "    for filename in filenames:\n",
    "        print(os.path.join(dirname, filename))\n",
    "\n",
    "# You can write up to 20GB to the current directory (/kaggle/working/) that gets preserved as output when you create a version using \"Save & Run All\" \n",
    "# You can also write temporary files to /kaggle/temp/, but they won't be saved outside of the current session"
   ]
  },
  {
   "cell_type": "code",
   "execution_count": 2,
   "id": "73c3f0aa",
   "metadata": {
    "execution": {
     "iopub.execute_input": "2023-08-25T15:36:54.934988Z",
     "iopub.status.busy": "2023-08-25T15:36:54.934000Z",
     "iopub.status.idle": "2023-08-25T15:36:56.124172Z",
     "shell.execute_reply": "2023-08-25T15:36:56.123480Z",
     "shell.execute_reply.started": "2023-08-25T14:13:36.849283Z"
    },
    "papermill": {
     "duration": 1.213157,
     "end_time": "2023-08-25T15:36:56.124346",
     "exception": false,
     "start_time": "2023-08-25T15:36:54.911189",
     "status": "completed"
    },
    "tags": []
   },
   "outputs": [],
   "source": [
    "import numpy as np\n",
    "import pandas as pd\n",
    "import itertools\n",
    "from sklearn.model_selection import train_test_split\n",
    "from sklearn.feature_extraction.text import TfidfVectorizer\n",
    "from sklearn.linear_model import PassiveAggressiveClassifier\n",
    "from sklearn.metrics import accuracy_score, confusion_matrix, classification_report"
   ]
  },
  {
   "cell_type": "markdown",
   "id": "f98b79f5",
   "metadata": {
    "papermill": {
     "duration": 0.016255,
     "end_time": "2023-08-25T15:36:56.156745",
     "exception": false,
     "start_time": "2023-08-25T15:36:56.140490",
     "status": "completed"
    },
    "tags": []
   },
   "source": [
    "# Data Loading"
   ]
  },
  {
   "cell_type": "code",
   "execution_count": 3,
   "id": "a5ad5c48",
   "metadata": {
    "execution": {
     "iopub.execute_input": "2023-08-25T15:36:56.194461Z",
     "iopub.status.busy": "2023-08-25T15:36:56.193577Z",
     "iopub.status.idle": "2023-08-25T15:36:59.068296Z",
     "shell.execute_reply": "2023-08-25T15:36:59.067461Z",
     "shell.execute_reply.started": "2023-08-25T14:16:10.740364Z"
    },
    "papermill": {
     "duration": 2.895936,
     "end_time": "2023-08-25T15:36:59.068465",
     "exception": false,
     "start_time": "2023-08-25T15:36:56.172529",
     "status": "completed"
    },
    "tags": []
   },
   "outputs": [
    {
     "name": "stdout",
     "output_type": "stream",
     "text": [
      "(23481, 4)\n",
      "(21417, 4)\n"
     ]
    },
    {
     "data": {
      "text/html": [
       "<div>\n",
       "<style scoped>\n",
       "    .dataframe tbody tr th:only-of-type {\n",
       "        vertical-align: middle;\n",
       "    }\n",
       "\n",
       "    .dataframe tbody tr th {\n",
       "        vertical-align: top;\n",
       "    }\n",
       "\n",
       "    .dataframe thead th {\n",
       "        text-align: right;\n",
       "    }\n",
       "</style>\n",
       "<table border=\"1\" class=\"dataframe\">\n",
       "  <thead>\n",
       "    <tr style=\"text-align: right;\">\n",
       "      <th></th>\n",
       "      <th>title</th>\n",
       "      <th>text</th>\n",
       "      <th>subject</th>\n",
       "      <th>date</th>\n",
       "    </tr>\n",
       "  </thead>\n",
       "  <tbody>\n",
       "    <tr>\n",
       "      <th>0</th>\n",
       "      <td>Donald Trump Sends Out Embarrassing New Year’...</td>\n",
       "      <td>Donald Trump just couldn t wish all Americans ...</td>\n",
       "      <td>News</td>\n",
       "      <td>December 31, 2017</td>\n",
       "    </tr>\n",
       "    <tr>\n",
       "      <th>1</th>\n",
       "      <td>Drunk Bragging Trump Staffer Started Russian ...</td>\n",
       "      <td>House Intelligence Committee Chairman Devin Nu...</td>\n",
       "      <td>News</td>\n",
       "      <td>December 31, 2017</td>\n",
       "    </tr>\n",
       "    <tr>\n",
       "      <th>2</th>\n",
       "      <td>Sheriff David Clarke Becomes An Internet Joke...</td>\n",
       "      <td>On Friday, it was revealed that former Milwauk...</td>\n",
       "      <td>News</td>\n",
       "      <td>December 30, 2017</td>\n",
       "    </tr>\n",
       "    <tr>\n",
       "      <th>3</th>\n",
       "      <td>Trump Is So Obsessed He Even Has Obama’s Name...</td>\n",
       "      <td>On Christmas day, Donald Trump announced that ...</td>\n",
       "      <td>News</td>\n",
       "      <td>December 29, 2017</td>\n",
       "    </tr>\n",
       "    <tr>\n",
       "      <th>4</th>\n",
       "      <td>Pope Francis Just Called Out Donald Trump Dur...</td>\n",
       "      <td>Pope Francis used his annual Christmas Day mes...</td>\n",
       "      <td>News</td>\n",
       "      <td>December 25, 2017</td>\n",
       "    </tr>\n",
       "  </tbody>\n",
       "</table>\n",
       "</div>"
      ],
      "text/plain": [
       "                                               title  \\\n",
       "0   Donald Trump Sends Out Embarrassing New Year’...   \n",
       "1   Drunk Bragging Trump Staffer Started Russian ...   \n",
       "2   Sheriff David Clarke Becomes An Internet Joke...   \n",
       "3   Trump Is So Obsessed He Even Has Obama’s Name...   \n",
       "4   Pope Francis Just Called Out Donald Trump Dur...   \n",
       "\n",
       "                                                text subject  \\\n",
       "0  Donald Trump just couldn t wish all Americans ...    News   \n",
       "1  House Intelligence Committee Chairman Devin Nu...    News   \n",
       "2  On Friday, it was revealed that former Milwauk...    News   \n",
       "3  On Christmas day, Donald Trump announced that ...    News   \n",
       "4  Pope Francis used his annual Christmas Day mes...    News   \n",
       "\n",
       "                date  \n",
       "0  December 31, 2017  \n",
       "1  December 31, 2017  \n",
       "2  December 30, 2017  \n",
       "3  December 29, 2017  \n",
       "4  December 25, 2017  "
      ]
     },
     "execution_count": 3,
     "metadata": {},
     "output_type": "execute_result"
    }
   ],
   "source": [
    "fake_nws=pd.read_csv('../input/fake-and-real-news-dataset/Fake.csv')\n",
    "true_nws=pd.read_csv('../input/fake-and-real-news-dataset/True.csv')\n",
    "print(fake_nws.shape)\n",
    "print(true_nws.shape)\n",
    "fake_nws.head()"
   ]
  },
  {
   "cell_type": "markdown",
   "id": "3107a27a",
   "metadata": {
    "papermill": {
     "duration": 0.016417,
     "end_time": "2023-08-25T15:36:59.101869",
     "exception": false,
     "start_time": "2023-08-25T15:36:59.085452",
     "status": "completed"
    },
    "tags": []
   },
   "source": [
    "# **labelling the fake and true news**"
   ]
  },
  {
   "cell_type": "code",
   "execution_count": 4,
   "id": "a7ff5cbe",
   "metadata": {
    "execution": {
     "iopub.execute_input": "2023-08-25T15:36:59.144499Z",
     "iopub.status.busy": "2023-08-25T15:36:59.143711Z",
     "iopub.status.idle": "2023-08-25T15:36:59.178558Z",
     "shell.execute_reply": "2023-08-25T15:36:59.177782Z",
     "shell.execute_reply.started": "2023-08-25T14:16:53.424282Z"
    },
    "papermill": {
     "duration": 0.060067,
     "end_time": "2023-08-25T15:36:59.178778",
     "exception": false,
     "start_time": "2023-08-25T15:36:59.118711",
     "status": "completed"
    },
    "tags": []
   },
   "outputs": [
    {
     "data": {
      "text/html": [
       "<div>\n",
       "<style scoped>\n",
       "    .dataframe tbody tr th:only-of-type {\n",
       "        vertical-align: middle;\n",
       "    }\n",
       "\n",
       "    .dataframe tbody tr th {\n",
       "        vertical-align: top;\n",
       "    }\n",
       "\n",
       "    .dataframe thead th {\n",
       "        text-align: right;\n",
       "    }\n",
       "</style>\n",
       "<table border=\"1\" class=\"dataframe\">\n",
       "  <thead>\n",
       "    <tr style=\"text-align: right;\">\n",
       "      <th></th>\n",
       "      <th>title</th>\n",
       "      <th>text</th>\n",
       "      <th>subject</th>\n",
       "      <th>date</th>\n",
       "      <th>label</th>\n",
       "    </tr>\n",
       "  </thead>\n",
       "  <tbody>\n",
       "    <tr>\n",
       "      <th>0</th>\n",
       "      <td>Donald Trump Sends Out Embarrassing New Year’...</td>\n",
       "      <td>Donald Trump just couldn t wish all Americans ...</td>\n",
       "      <td>News</td>\n",
       "      <td>December 31, 2017</td>\n",
       "      <td>fake</td>\n",
       "    </tr>\n",
       "    <tr>\n",
       "      <th>1</th>\n",
       "      <td>Drunk Bragging Trump Staffer Started Russian ...</td>\n",
       "      <td>House Intelligence Committee Chairman Devin Nu...</td>\n",
       "      <td>News</td>\n",
       "      <td>December 31, 2017</td>\n",
       "      <td>fake</td>\n",
       "    </tr>\n",
       "    <tr>\n",
       "      <th>2</th>\n",
       "      <td>Sheriff David Clarke Becomes An Internet Joke...</td>\n",
       "      <td>On Friday, it was revealed that former Milwauk...</td>\n",
       "      <td>News</td>\n",
       "      <td>December 30, 2017</td>\n",
       "      <td>fake</td>\n",
       "    </tr>\n",
       "    <tr>\n",
       "      <th>3</th>\n",
       "      <td>Trump Is So Obsessed He Even Has Obama’s Name...</td>\n",
       "      <td>On Christmas day, Donald Trump announced that ...</td>\n",
       "      <td>News</td>\n",
       "      <td>December 29, 2017</td>\n",
       "      <td>fake</td>\n",
       "    </tr>\n",
       "    <tr>\n",
       "      <th>4</th>\n",
       "      <td>Pope Francis Just Called Out Donald Trump Dur...</td>\n",
       "      <td>Pope Francis used his annual Christmas Day mes...</td>\n",
       "      <td>News</td>\n",
       "      <td>December 25, 2017</td>\n",
       "      <td>fake</td>\n",
       "    </tr>\n",
       "    <tr>\n",
       "      <th>...</th>\n",
       "      <td>...</td>\n",
       "      <td>...</td>\n",
       "      <td>...</td>\n",
       "      <td>...</td>\n",
       "      <td>...</td>\n",
       "    </tr>\n",
       "    <tr>\n",
       "      <th>44893</th>\n",
       "      <td>'Fully committed' NATO backs new U.S. approach...</td>\n",
       "      <td>BRUSSELS (Reuters) - NATO allies on Tuesday we...</td>\n",
       "      <td>worldnews</td>\n",
       "      <td>August 22, 2017</td>\n",
       "      <td>true</td>\n",
       "    </tr>\n",
       "    <tr>\n",
       "      <th>44894</th>\n",
       "      <td>LexisNexis withdrew two products from Chinese ...</td>\n",
       "      <td>LONDON (Reuters) - LexisNexis, a provider of l...</td>\n",
       "      <td>worldnews</td>\n",
       "      <td>August 22, 2017</td>\n",
       "      <td>true</td>\n",
       "    </tr>\n",
       "    <tr>\n",
       "      <th>44895</th>\n",
       "      <td>Minsk cultural hub becomes haven from authorities</td>\n",
       "      <td>MINSK (Reuters) - In the shadow of disused Sov...</td>\n",
       "      <td>worldnews</td>\n",
       "      <td>August 22, 2017</td>\n",
       "      <td>true</td>\n",
       "    </tr>\n",
       "    <tr>\n",
       "      <th>44896</th>\n",
       "      <td>Vatican upbeat on possibility of Pope Francis ...</td>\n",
       "      <td>MOSCOW (Reuters) - Vatican Secretary of State ...</td>\n",
       "      <td>worldnews</td>\n",
       "      <td>August 22, 2017</td>\n",
       "      <td>true</td>\n",
       "    </tr>\n",
       "    <tr>\n",
       "      <th>44897</th>\n",
       "      <td>Indonesia to buy $1.14 billion worth of Russia...</td>\n",
       "      <td>JAKARTA (Reuters) - Indonesia will buy 11 Sukh...</td>\n",
       "      <td>worldnews</td>\n",
       "      <td>August 22, 2017</td>\n",
       "      <td>true</td>\n",
       "    </tr>\n",
       "  </tbody>\n",
       "</table>\n",
       "<p>44898 rows × 5 columns</p>\n",
       "</div>"
      ],
      "text/plain": [
       "                                                   title  \\\n",
       "0       Donald Trump Sends Out Embarrassing New Year’...   \n",
       "1       Drunk Bragging Trump Staffer Started Russian ...   \n",
       "2       Sheriff David Clarke Becomes An Internet Joke...   \n",
       "3       Trump Is So Obsessed He Even Has Obama’s Name...   \n",
       "4       Pope Francis Just Called Out Donald Trump Dur...   \n",
       "...                                                  ...   \n",
       "44893  'Fully committed' NATO backs new U.S. approach...   \n",
       "44894  LexisNexis withdrew two products from Chinese ...   \n",
       "44895  Minsk cultural hub becomes haven from authorities   \n",
       "44896  Vatican upbeat on possibility of Pope Francis ...   \n",
       "44897  Indonesia to buy $1.14 billion worth of Russia...   \n",
       "\n",
       "                                                    text    subject  \\\n",
       "0      Donald Trump just couldn t wish all Americans ...       News   \n",
       "1      House Intelligence Committee Chairman Devin Nu...       News   \n",
       "2      On Friday, it was revealed that former Milwauk...       News   \n",
       "3      On Christmas day, Donald Trump announced that ...       News   \n",
       "4      Pope Francis used his annual Christmas Day mes...       News   \n",
       "...                                                  ...        ...   \n",
       "44893  BRUSSELS (Reuters) - NATO allies on Tuesday we...  worldnews   \n",
       "44894  LONDON (Reuters) - LexisNexis, a provider of l...  worldnews   \n",
       "44895  MINSK (Reuters) - In the shadow of disused Sov...  worldnews   \n",
       "44896  MOSCOW (Reuters) - Vatican Secretary of State ...  worldnews   \n",
       "44897  JAKARTA (Reuters) - Indonesia will buy 11 Sukh...  worldnews   \n",
       "\n",
       "                    date label  \n",
       "0      December 31, 2017  fake  \n",
       "1      December 31, 2017  fake  \n",
       "2      December 30, 2017  fake  \n",
       "3      December 29, 2017  fake  \n",
       "4      December 25, 2017  fake  \n",
       "...                  ...   ...  \n",
       "44893   August 22, 2017   true  \n",
       "44894   August 22, 2017   true  \n",
       "44895   August 22, 2017   true  \n",
       "44896   August 22, 2017   true  \n",
       "44897   August 22, 2017   true  \n",
       "\n",
       "[44898 rows x 5 columns]"
      ]
     },
     "execution_count": 4,
     "metadata": {},
     "output_type": "execute_result"
    }
   ],
   "source": [
    "fake_nws['label']='fake'\n",
    "true_nws['label']='true'\n",
    "df=pd.concat([fake_nws,true_nws], axis=0, ignore_index=True)\n",
    "df"
   ]
  },
  {
   "cell_type": "markdown",
   "id": "782b6f90",
   "metadata": {
    "papermill": {
     "duration": 0.017563,
     "end_time": "2023-08-25T15:36:59.215123",
     "exception": false,
     "start_time": "2023-08-25T15:36:59.197560",
     "status": "completed"
    },
    "tags": []
   },
   "source": [
    "# **considering all features** "
   ]
  },
  {
   "cell_type": "code",
   "execution_count": 5,
   "id": "bddb087b",
   "metadata": {
    "execution": {
     "iopub.execute_input": "2023-08-25T15:36:59.256437Z",
     "iopub.status.busy": "2023-08-25T15:36:59.255594Z",
     "iopub.status.idle": "2023-08-25T15:36:59.725024Z",
     "shell.execute_reply": "2023-08-25T15:36:59.725591Z",
     "shell.execute_reply.started": "2023-08-25T14:18:08.564933Z"
    },
    "papermill": {
     "duration": 0.492977,
     "end_time": "2023-08-25T15:36:59.725876",
     "exception": false,
     "start_time": "2023-08-25T15:36:59.232899",
     "status": "completed"
    },
    "tags": []
   },
   "outputs": [
    {
     "data": {
      "text/html": [
       "<div>\n",
       "<style scoped>\n",
       "    .dataframe tbody tr th:only-of-type {\n",
       "        vertical-align: middle;\n",
       "    }\n",
       "\n",
       "    .dataframe tbody tr th {\n",
       "        vertical-align: top;\n",
       "    }\n",
       "\n",
       "    .dataframe thead th {\n",
       "        text-align: right;\n",
       "    }\n",
       "</style>\n",
       "<table border=\"1\" class=\"dataframe\">\n",
       "  <thead>\n",
       "    <tr style=\"text-align: right;\">\n",
       "      <th></th>\n",
       "      <th>title</th>\n",
       "      <th>text</th>\n",
       "      <th>subject</th>\n",
       "      <th>date</th>\n",
       "      <th>label</th>\n",
       "      <th>text_new</th>\n",
       "    </tr>\n",
       "  </thead>\n",
       "  <tbody>\n",
       "    <tr>\n",
       "      <th>0</th>\n",
       "      <td>Donald Trump Sends Out Embarrassing New Year’...</td>\n",
       "      <td>Donald Trump just couldn t wish all Americans ...</td>\n",
       "      <td>News</td>\n",
       "      <td>December 31, 2017</td>\n",
       "      <td>fake</td>\n",
       "      <td>Donald Trump Sends Out Embarrassing New Year’...</td>\n",
       "    </tr>\n",
       "    <tr>\n",
       "      <th>1</th>\n",
       "      <td>Drunk Bragging Trump Staffer Started Russian ...</td>\n",
       "      <td>House Intelligence Committee Chairman Devin Nu...</td>\n",
       "      <td>News</td>\n",
       "      <td>December 31, 2017</td>\n",
       "      <td>fake</td>\n",
       "      <td>Drunk Bragging Trump Staffer Started Russian ...</td>\n",
       "    </tr>\n",
       "    <tr>\n",
       "      <th>2</th>\n",
       "      <td>Sheriff David Clarke Becomes An Internet Joke...</td>\n",
       "      <td>On Friday, it was revealed that former Milwauk...</td>\n",
       "      <td>News</td>\n",
       "      <td>December 30, 2017</td>\n",
       "      <td>fake</td>\n",
       "      <td>Sheriff David Clarke Becomes An Internet Joke...</td>\n",
       "    </tr>\n",
       "    <tr>\n",
       "      <th>3</th>\n",
       "      <td>Trump Is So Obsessed He Even Has Obama’s Name...</td>\n",
       "      <td>On Christmas day, Donald Trump announced that ...</td>\n",
       "      <td>News</td>\n",
       "      <td>December 29, 2017</td>\n",
       "      <td>fake</td>\n",
       "      <td>Trump Is So Obsessed He Even Has Obama’s Name...</td>\n",
       "    </tr>\n",
       "    <tr>\n",
       "      <th>4</th>\n",
       "      <td>Pope Francis Just Called Out Donald Trump Dur...</td>\n",
       "      <td>Pope Francis used his annual Christmas Day mes...</td>\n",
       "      <td>News</td>\n",
       "      <td>December 25, 2017</td>\n",
       "      <td>fake</td>\n",
       "      <td>Pope Francis Just Called Out Donald Trump Dur...</td>\n",
       "    </tr>\n",
       "    <tr>\n",
       "      <th>...</th>\n",
       "      <td>...</td>\n",
       "      <td>...</td>\n",
       "      <td>...</td>\n",
       "      <td>...</td>\n",
       "      <td>...</td>\n",
       "      <td>...</td>\n",
       "    </tr>\n",
       "    <tr>\n",
       "      <th>44893</th>\n",
       "      <td>'Fully committed' NATO backs new U.S. approach...</td>\n",
       "      <td>BRUSSELS (Reuters) - NATO allies on Tuesday we...</td>\n",
       "      <td>worldnews</td>\n",
       "      <td>August 22, 2017</td>\n",
       "      <td>true</td>\n",
       "      <td>'Fully committed' NATO backs new U.S. approach...</td>\n",
       "    </tr>\n",
       "    <tr>\n",
       "      <th>44894</th>\n",
       "      <td>LexisNexis withdrew two products from Chinese ...</td>\n",
       "      <td>LONDON (Reuters) - LexisNexis, a provider of l...</td>\n",
       "      <td>worldnews</td>\n",
       "      <td>August 22, 2017</td>\n",
       "      <td>true</td>\n",
       "      <td>LexisNexis withdrew two products from Chinese ...</td>\n",
       "    </tr>\n",
       "    <tr>\n",
       "      <th>44895</th>\n",
       "      <td>Minsk cultural hub becomes haven from authorities</td>\n",
       "      <td>MINSK (Reuters) - In the shadow of disused Sov...</td>\n",
       "      <td>worldnews</td>\n",
       "      <td>August 22, 2017</td>\n",
       "      <td>true</td>\n",
       "      <td>Minsk cultural hub becomes haven from authorit...</td>\n",
       "    </tr>\n",
       "    <tr>\n",
       "      <th>44896</th>\n",
       "      <td>Vatican upbeat on possibility of Pope Francis ...</td>\n",
       "      <td>MOSCOW (Reuters) - Vatican Secretary of State ...</td>\n",
       "      <td>worldnews</td>\n",
       "      <td>August 22, 2017</td>\n",
       "      <td>true</td>\n",
       "      <td>Vatican upbeat on possibility of Pope Francis ...</td>\n",
       "    </tr>\n",
       "    <tr>\n",
       "      <th>44897</th>\n",
       "      <td>Indonesia to buy $1.14 billion worth of Russia...</td>\n",
       "      <td>JAKARTA (Reuters) - Indonesia will buy 11 Sukh...</td>\n",
       "      <td>worldnews</td>\n",
       "      <td>August 22, 2017</td>\n",
       "      <td>true</td>\n",
       "      <td>Indonesia to buy $1.14 billion worth of Russia...</td>\n",
       "    </tr>\n",
       "  </tbody>\n",
       "</table>\n",
       "<p>44898 rows × 6 columns</p>\n",
       "</div>"
      ],
      "text/plain": [
       "                                                   title  \\\n",
       "0       Donald Trump Sends Out Embarrassing New Year’...   \n",
       "1       Drunk Bragging Trump Staffer Started Russian ...   \n",
       "2       Sheriff David Clarke Becomes An Internet Joke...   \n",
       "3       Trump Is So Obsessed He Even Has Obama’s Name...   \n",
       "4       Pope Francis Just Called Out Donald Trump Dur...   \n",
       "...                                                  ...   \n",
       "44893  'Fully committed' NATO backs new U.S. approach...   \n",
       "44894  LexisNexis withdrew two products from Chinese ...   \n",
       "44895  Minsk cultural hub becomes haven from authorities   \n",
       "44896  Vatican upbeat on possibility of Pope Francis ...   \n",
       "44897  Indonesia to buy $1.14 billion worth of Russia...   \n",
       "\n",
       "                                                    text    subject  \\\n",
       "0      Donald Trump just couldn t wish all Americans ...       News   \n",
       "1      House Intelligence Committee Chairman Devin Nu...       News   \n",
       "2      On Friday, it was revealed that former Milwauk...       News   \n",
       "3      On Christmas day, Donald Trump announced that ...       News   \n",
       "4      Pope Francis used his annual Christmas Day mes...       News   \n",
       "...                                                  ...        ...   \n",
       "44893  BRUSSELS (Reuters) - NATO allies on Tuesday we...  worldnews   \n",
       "44894  LONDON (Reuters) - LexisNexis, a provider of l...  worldnews   \n",
       "44895  MINSK (Reuters) - In the shadow of disused Sov...  worldnews   \n",
       "44896  MOSCOW (Reuters) - Vatican Secretary of State ...  worldnews   \n",
       "44897  JAKARTA (Reuters) - Indonesia will buy 11 Sukh...  worldnews   \n",
       "\n",
       "                    date label  \\\n",
       "0      December 31, 2017  fake   \n",
       "1      December 31, 2017  fake   \n",
       "2      December 30, 2017  fake   \n",
       "3      December 29, 2017  fake   \n",
       "4      December 25, 2017  fake   \n",
       "...                  ...   ...   \n",
       "44893   August 22, 2017   true   \n",
       "44894   August 22, 2017   true   \n",
       "44895   August 22, 2017   true   \n",
       "44896   August 22, 2017   true   \n",
       "44897   August 22, 2017   true   \n",
       "\n",
       "                                                text_new  \n",
       "0       Donald Trump Sends Out Embarrassing New Year’...  \n",
       "1       Drunk Bragging Trump Staffer Started Russian ...  \n",
       "2       Sheriff David Clarke Becomes An Internet Joke...  \n",
       "3       Trump Is So Obsessed He Even Has Obama’s Name...  \n",
       "4       Pope Francis Just Called Out Donald Trump Dur...  \n",
       "...                                                  ...  \n",
       "44893  'Fully committed' NATO backs new U.S. approach...  \n",
       "44894  LexisNexis withdrew two products from Chinese ...  \n",
       "44895  Minsk cultural hub becomes haven from authorit...  \n",
       "44896  Vatican upbeat on possibility of Pope Francis ...  \n",
       "44897  Indonesia to buy $1.14 billion worth of Russia...  \n",
       "\n",
       "[44898 rows x 6 columns]"
      ]
     },
     "execution_count": 5,
     "metadata": {},
     "output_type": "execute_result"
    }
   ],
   "source": [
    "df['text_new']=df['title']+\" \"+df['text']+\" \"+df['subject']\n",
    "df"
   ]
  },
  {
   "cell_type": "markdown",
   "id": "db2bd0ad",
   "metadata": {
    "papermill": {
     "duration": 0.018364,
     "end_time": "2023-08-25T15:36:59.763330",
     "exception": false,
     "start_time": "2023-08-25T15:36:59.744966",
     "status": "completed"
    },
    "tags": []
   },
   "source": [
    "# **splitting testing and training datasets**"
   ]
  },
  {
   "cell_type": "code",
   "execution_count": 6,
   "id": "7c34cf5d",
   "metadata": {
    "execution": {
     "iopub.execute_input": "2023-08-25T15:36:59.810393Z",
     "iopub.status.busy": "2023-08-25T15:36:59.809641Z",
     "iopub.status.idle": "2023-08-25T15:36:59.820520Z",
     "shell.execute_reply": "2023-08-25T15:36:59.819713Z",
     "shell.execute_reply.started": "2023-08-25T14:20:18.437330Z"
    },
    "papermill": {
     "duration": 0.037914,
     "end_time": "2023-08-25T15:36:59.820716",
     "exception": false,
     "start_time": "2023-08-25T15:36:59.782802",
     "status": "completed"
    },
    "tags": []
   },
   "outputs": [],
   "source": [
    "X_train,X_test,y_train,y_test=train_test_split(df['text_new'], df['label'], test_size=0.2)"
   ]
  },
  {
   "cell_type": "code",
   "execution_count": 7,
   "id": "a1c346c5",
   "metadata": {
    "execution": {
     "iopub.execute_input": "2023-08-25T15:36:59.922742Z",
     "iopub.status.busy": "2023-08-25T15:36:59.895822Z",
     "iopub.status.idle": "2023-08-25T15:37:22.862772Z",
     "shell.execute_reply": "2023-08-25T15:37:22.861940Z",
     "shell.execute_reply.started": "2023-08-25T14:20:24.087560Z"
    },
    "papermill": {
     "duration": 23.023761,
     "end_time": "2023-08-25T15:37:22.862944",
     "exception": false,
     "start_time": "2023-08-25T15:36:59.839183",
     "status": "completed"
    },
    "tags": []
   },
   "outputs": [],
   "source": [
    "tfidf=TfidfVectorizer(stop_words='english', max_df=0.7)\n",
    "train=tfidf.fit_transform(X_train) \n",
    "test=tfidf.transform(X_test)"
   ]
  },
  {
   "cell_type": "markdown",
   "id": "97161d85",
   "metadata": {
    "papermill": {
     "duration": 0.018058,
     "end_time": "2023-08-25T15:37:22.899782",
     "exception": false,
     "start_time": "2023-08-25T15:37:22.881724",
     "status": "completed"
    },
    "tags": []
   },
   "source": [
    "# **Using Passive Aggressive Classifier**"
   ]
  },
  {
   "cell_type": "code",
   "execution_count": 8,
   "id": "4aa5ac38",
   "metadata": {
    "execution": {
     "iopub.execute_input": "2023-08-25T15:37:22.943836Z",
     "iopub.status.busy": "2023-08-25T15:37:22.943045Z",
     "iopub.status.idle": "2023-08-25T15:37:23.511543Z",
     "shell.execute_reply": "2023-08-25T15:37:23.510883Z",
     "shell.execute_reply.started": "2023-08-25T14:22:08.808759Z"
    },
    "papermill": {
     "duration": 0.593574,
     "end_time": "2023-08-25T15:37:23.511740",
     "exception": false,
     "start_time": "2023-08-25T15:37:22.918166",
     "status": "completed"
    },
    "tags": []
   },
   "outputs": [
    {
     "name": "stdout",
     "output_type": "stream",
     "text": [
      "Accuracy: 99.83%\n"
     ]
    }
   ],
   "source": [
    "pac=PassiveAggressiveClassifier(max_iter=50)\n",
    "pac.fit(train,y_train)\n",
    "y_pred=pac.predict(test)\n",
    "score=accuracy_score(y_test,y_pred)\n",
    "print(f'Accuracy: {round(score*100,2)}%')"
   ]
  },
  {
   "cell_type": "code",
   "execution_count": 9,
   "id": "7fc793e8",
   "metadata": {
    "execution": {
     "iopub.execute_input": "2023-08-25T15:37:23.554954Z",
     "iopub.status.busy": "2023-08-25T15:37:23.554082Z",
     "iopub.status.idle": "2023-08-25T15:37:23.622694Z",
     "shell.execute_reply": "2023-08-25T15:37:23.621979Z",
     "shell.execute_reply.started": "2023-08-25T14:22:14.626699Z"
    },
    "papermill": {
     "duration": 0.092312,
     "end_time": "2023-08-25T15:37:23.622870",
     "exception": false,
     "start_time": "2023-08-25T15:37:23.530558",
     "status": "completed"
    },
    "tags": []
   },
   "outputs": [
    {
     "data": {
      "text/plain": [
       "array([[4711,    8],\n",
       "       [   7, 4254]])"
      ]
     },
     "execution_count": 9,
     "metadata": {},
     "output_type": "execute_result"
    }
   ],
   "source": [
    "confusion_matrix(y_test,y_pred)"
   ]
  },
  {
   "cell_type": "code",
   "execution_count": 10,
   "id": "f43d5749",
   "metadata": {
    "execution": {
     "iopub.execute_input": "2023-08-25T15:37:23.675504Z",
     "iopub.status.busy": "2023-08-25T15:37:23.674738Z",
     "iopub.status.idle": "2023-08-25T15:37:24.123748Z",
     "shell.execute_reply": "2023-08-25T15:37:24.123074Z",
     "shell.execute_reply.started": "2023-08-25T14:22:19.724876Z"
    },
    "papermill": {
     "duration": 0.480889,
     "end_time": "2023-08-25T15:37:24.123928",
     "exception": false,
     "start_time": "2023-08-25T15:37:23.643039",
     "status": "completed"
    },
    "tags": []
   },
   "outputs": [
    {
     "data": {
      "text/plain": [
       "'              precision    recall  f1-score   support\\n\\n        fake       1.00      1.00      1.00      4719\\n        true       1.00      1.00      1.00      4261\\n\\n    accuracy                           1.00      8980\\n   macro avg       1.00      1.00      1.00      8980\\nweighted avg       1.00      1.00      1.00      8980\\n'"
      ]
     },
     "execution_count": 10,
     "metadata": {},
     "output_type": "execute_result"
    }
   ],
   "source": [
    "classification_report(y_test,y_pred)"
   ]
  },
  {
   "cell_type": "code",
   "execution_count": null,
   "id": "2cd1dee6",
   "metadata": {
    "papermill": {
     "duration": 0.019904,
     "end_time": "2023-08-25T15:37:24.164069",
     "exception": false,
     "start_time": "2023-08-25T15:37:24.144165",
     "status": "completed"
    },
    "tags": []
   },
   "outputs": [],
   "source": []
  }
 ],
 "metadata": {
  "kernelspec": {
   "display_name": "Python 3",
   "language": "python",
   "name": "python3"
  },
  "language_info": {
   "codemirror_mode": {
    "name": "ipython",
    "version": 3
   },
   "file_extension": ".py",
   "mimetype": "text/x-python",
   "name": "python",
   "nbconvert_exporter": "python",
   "pygments_lexer": "ipython3",
   "version": "3.7.10"
  },
  "papermill": {
   "default_parameters": {},
   "duration": 40.832665,
   "end_time": "2023-08-25T15:37:25.925351",
   "environment_variables": {},
   "exception": null,
   "input_path": "__notebook__.ipynb",
   "output_path": "__notebook__.ipynb",
   "parameters": {},
   "start_time": "2023-08-25T15:36:45.092686",
   "version": "2.3.3"
  }
 },
 "nbformat": 4,
 "nbformat_minor": 5
}
