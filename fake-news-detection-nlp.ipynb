{
 "cells": [
  {
   "cell_type": "code",
   "execution_count": 1,
   "id": "fcc7be6f",
   "metadata": {
    "_cell_guid": "b1076dfc-b9ad-4769-8c92-a6c4dae69d19",
    "_uuid": "8f2839f25d086af736a60e9eeb907d3b93b6e0e5",
    "execution": {
     "iopub.execute_input": "2023-08-25T14:25:38.322682Z",
     "iopub.status.busy": "2023-08-25T14:25:38.321870Z",
     "iopub.status.idle": "2023-08-25T14:25:38.333901Z",
     "shell.execute_reply": "2023-08-25T14:25:38.333025Z",
     "shell.execute_reply.started": "2023-08-25T14:14:47.608165Z"
    },
    "papermill": {
     "duration": 0.042933,
     "end_time": "2023-08-25T14:25:38.334109",
     "exception": false,
     "start_time": "2023-08-25T14:25:38.291176",
     "status": "completed"
    },
    "tags": []
   },
   "outputs": [
    {
     "name": "stdout",
     "output_type": "stream",
     "text": [
      "/kaggle/input/fake-and-real-news-dataset/True.csv\n",
      "/kaggle/input/fake-and-real-news-dataset/Fake.csv\n"
     ]
    }
   ],
   "source": [
    "# This Python 3 environment comes with many helpful analytics libraries installed\n",
    "# It is defined by the kaggle/python Docker image: https://github.com/kaggle/docker-python\n",
    "# For example, here's several helpful packages to load\n",
    "\n",
    "import numpy as np # linear algebra\n",
    "import pandas as pd # data processing, CSV file I/O (e.g. pd.read_csv)\n",
    "\n",
    "# Input data files are available in the read-only \"../input/\" directory\n",
    "# For example, running this (by clicking run or pressing Shift+Enter) will list all files under the input directory\n",
    "\n",
    "import os\n",
    "for dirname, _, filenames in os.walk('/kaggle/input'):\n",
    "    for filename in filenames:\n",
    "        print(os.path.join(dirname, filename))\n",
    "\n",
    "# You can write up to 20GB to the current directory (/kaggle/working/) that gets preserved as output when you create a version using \"Save & Run All\" \n",
    "# You can also write temporary files to /kaggle/temp/, but they won't be saved outside of the current session"
   ]
  },
  {
   "cell_type": "code",
   "execution_count": 2,
   "id": "a4fafa4c",
   "metadata": {
    "execution": {
     "iopub.execute_input": "2023-08-25T14:25:38.373869Z",
     "iopub.status.busy": "2023-08-25T14:25:38.373040Z",
     "iopub.status.idle": "2023-08-25T14:25:39.706441Z",
     "shell.execute_reply": "2023-08-25T14:25:39.707052Z",
     "shell.execute_reply.started": "2023-08-25T14:13:36.849283Z"
    },
    "papermill": {
     "duration": 1.35596,
     "end_time": "2023-08-25T14:25:39.707324",
     "exception": false,
     "start_time": "2023-08-25T14:25:38.351364",
     "status": "completed"
    },
    "tags": []
   },
   "outputs": [],
   "source": [
    "import numpy as np\n",
    "import pandas as pd\n",
    "import itertools\n",
    "from sklearn.model_selection import train_test_split\n",
    "from sklearn.feature_extraction.text import TfidfVectorizer\n",
    "from sklearn.linear_model import PassiveAggressiveClassifier\n",
    "from sklearn.metrics import accuracy_score, confusion_matrix, classification_report"
   ]
  },
  {
   "cell_type": "markdown",
   "id": "6edcaa1c",
   "metadata": {
    "papermill": {
     "duration": 0.015223,
     "end_time": "2023-08-25T14:25:39.739633",
     "exception": false,
     "start_time": "2023-08-25T14:25:39.724410",
     "status": "completed"
    },
    "tags": []
   },
   "source": [
    "# Data Loading"
   ]
  },
  {
   "cell_type": "code",
   "execution_count": 3,
   "id": "4c852f47",
   "metadata": {
    "execution": {
     "iopub.execute_input": "2023-08-25T14:25:39.776128Z",
     "iopub.status.busy": "2023-08-25T14:25:39.774627Z",
     "iopub.status.idle": "2023-08-25T14:25:42.468567Z",
     "shell.execute_reply": "2023-08-25T14:25:42.469216Z",
     "shell.execute_reply.started": "2023-08-25T14:16:10.740364Z"
    },
    "papermill": {
     "duration": 2.714066,
     "end_time": "2023-08-25T14:25:42.469443",
     "exception": false,
     "start_time": "2023-08-25T14:25:39.755377",
     "status": "completed"
    },
    "tags": []
   },
   "outputs": [
    {
     "name": "stdout",
     "output_type": "stream",
     "text": [
      "(23481, 4)\n",
      "(21417, 4)\n"
     ]
    },
    {
     "data": {
      "text/html": [
       "<div>\n",
       "<style scoped>\n",
       "    .dataframe tbody tr th:only-of-type {\n",
       "        vertical-align: middle;\n",
       "    }\n",
       "\n",
       "    .dataframe tbody tr th {\n",
       "        vertical-align: top;\n",
       "    }\n",
       "\n",
       "    .dataframe thead th {\n",
       "        text-align: right;\n",
       "    }\n",
       "</style>\n",
       "<table border=\"1\" class=\"dataframe\">\n",
       "  <thead>\n",
       "    <tr style=\"text-align: right;\">\n",
       "      <th></th>\n",
       "      <th>title</th>\n",
       "      <th>text</th>\n",
       "      <th>subject</th>\n",
       "      <th>date</th>\n",
       "    </tr>\n",
       "  </thead>\n",
       "  <tbody>\n",
       "    <tr>\n",
       "      <th>0</th>\n",
       "      <td>Donald Trump Sends Out Embarrassing New Year’...</td>\n",
       "      <td>Donald Trump just couldn t wish all Americans ...</td>\n",
       "      <td>News</td>\n",
       "      <td>December 31, 2017</td>\n",
       "    </tr>\n",
       "    <tr>\n",
       "      <th>1</th>\n",
       "      <td>Drunk Bragging Trump Staffer Started Russian ...</td>\n",
       "      <td>House Intelligence Committee Chairman Devin Nu...</td>\n",
       "      <td>News</td>\n",
       "      <td>December 31, 2017</td>\n",
       "    </tr>\n",
       "    <tr>\n",
       "      <th>2</th>\n",
       "      <td>Sheriff David Clarke Becomes An Internet Joke...</td>\n",
       "      <td>On Friday, it was revealed that former Milwauk...</td>\n",
       "      <td>News</td>\n",
       "      <td>December 30, 2017</td>\n",
       "    </tr>\n",
       "    <tr>\n",
       "      <th>3</th>\n",
       "      <td>Trump Is So Obsessed He Even Has Obama’s Name...</td>\n",
       "      <td>On Christmas day, Donald Trump announced that ...</td>\n",
       "      <td>News</td>\n",
       "      <td>December 29, 2017</td>\n",
       "    </tr>\n",
       "    <tr>\n",
       "      <th>4</th>\n",
       "      <td>Pope Francis Just Called Out Donald Trump Dur...</td>\n",
       "      <td>Pope Francis used his annual Christmas Day mes...</td>\n",
       "      <td>News</td>\n",
       "      <td>December 25, 2017</td>\n",
       "    </tr>\n",
       "  </tbody>\n",
       "</table>\n",
       "</div>"
      ],
      "text/plain": [
       "                                               title  \\\n",
       "0   Donald Trump Sends Out Embarrassing New Year’...   \n",
       "1   Drunk Bragging Trump Staffer Started Russian ...   \n",
       "2   Sheriff David Clarke Becomes An Internet Joke...   \n",
       "3   Trump Is So Obsessed He Even Has Obama’s Name...   \n",
       "4   Pope Francis Just Called Out Donald Trump Dur...   \n",
       "\n",
       "                                                text subject  \\\n",
       "0  Donald Trump just couldn t wish all Americans ...    News   \n",
       "1  House Intelligence Committee Chairman Devin Nu...    News   \n",
       "2  On Friday, it was revealed that former Milwauk...    News   \n",
       "3  On Christmas day, Donald Trump announced that ...    News   \n",
       "4  Pope Francis used his annual Christmas Day mes...    News   \n",
       "\n",
       "                date  \n",
       "0  December 31, 2017  \n",
       "1  December 31, 2017  \n",
       "2  December 30, 2017  \n",
       "3  December 29, 2017  \n",
       "4  December 25, 2017  "
      ]
     },
     "execution_count": 3,
     "metadata": {},
     "output_type": "execute_result"
    }
   ],
   "source": [
    "fake_nws=pd.read_csv('../input/fake-and-real-news-dataset/Fake.csv')\n",
    "true_nws=pd.read_csv('../input/fake-and-real-news-dataset/True.csv')\n",
    "print(fake_nws.shape)\n",
    "print(true_nws.shape)\n",
    "fake_nws.head()"
   ]
  },
  {
   "cell_type": "markdown",
   "id": "ac83c541",
   "metadata": {
    "papermill": {
     "duration": 0.016728,
     "end_time": "2023-08-25T14:25:42.503163",
     "exception": false,
     "start_time": "2023-08-25T14:25:42.486435",
     "status": "completed"
    },
    "tags": []
   },
   "source": [
    "**labelling the fake and true news**"
   ]
  },
  {
   "cell_type": "code",
   "execution_count": 4,
   "id": "5dd15a7b",
   "metadata": {
    "execution": {
     "iopub.execute_input": "2023-08-25T14:25:42.546323Z",
     "iopub.status.busy": "2023-08-25T14:25:42.544832Z",
     "iopub.status.idle": "2023-08-25T14:25:42.581020Z",
     "shell.execute_reply": "2023-08-25T14:25:42.580237Z",
     "shell.execute_reply.started": "2023-08-25T14:16:53.424282Z"
    },
    "papermill": {
     "duration": 0.061178,
     "end_time": "2023-08-25T14:25:42.581201",
     "exception": false,
     "start_time": "2023-08-25T14:25:42.520023",
     "status": "completed"
    },
    "tags": []
   },
   "outputs": [
    {
     "data": {
      "text/html": [
       "<div>\n",
       "<style scoped>\n",
       "    .dataframe tbody tr th:only-of-type {\n",
       "        vertical-align: middle;\n",
       "    }\n",
       "\n",
       "    .dataframe tbody tr th {\n",
       "        vertical-align: top;\n",
       "    }\n",
       "\n",
       "    .dataframe thead th {\n",
       "        text-align: right;\n",
       "    }\n",
       "</style>\n",
       "<table border=\"1\" class=\"dataframe\">\n",
       "  <thead>\n",
       "    <tr style=\"text-align: right;\">\n",
       "      <th></th>\n",
       "      <th>title</th>\n",
       "      <th>text</th>\n",
       "      <th>subject</th>\n",
       "      <th>date</th>\n",
       "      <th>label</th>\n",
       "    </tr>\n",
       "  </thead>\n",
       "  <tbody>\n",
       "    <tr>\n",
       "      <th>0</th>\n",
       "      <td>Donald Trump Sends Out Embarrassing New Year’...</td>\n",
       "      <td>Donald Trump just couldn t wish all Americans ...</td>\n",
       "      <td>News</td>\n",
       "      <td>December 31, 2017</td>\n",
       "      <td>fake</td>\n",
       "    </tr>\n",
       "    <tr>\n",
       "      <th>1</th>\n",
       "      <td>Drunk Bragging Trump Staffer Started Russian ...</td>\n",
       "      <td>House Intelligence Committee Chairman Devin Nu...</td>\n",
       "      <td>News</td>\n",
       "      <td>December 31, 2017</td>\n",
       "      <td>fake</td>\n",
       "    </tr>\n",
       "    <tr>\n",
       "      <th>2</th>\n",
       "      <td>Sheriff David Clarke Becomes An Internet Joke...</td>\n",
       "      <td>On Friday, it was revealed that former Milwauk...</td>\n",
       "      <td>News</td>\n",
       "      <td>December 30, 2017</td>\n",
       "      <td>fake</td>\n",
       "    </tr>\n",
       "    <tr>\n",
       "      <th>3</th>\n",
       "      <td>Trump Is So Obsessed He Even Has Obama’s Name...</td>\n",
       "      <td>On Christmas day, Donald Trump announced that ...</td>\n",
       "      <td>News</td>\n",
       "      <td>December 29, 2017</td>\n",
       "      <td>fake</td>\n",
       "    </tr>\n",
       "    <tr>\n",
       "      <th>4</th>\n",
       "      <td>Pope Francis Just Called Out Donald Trump Dur...</td>\n",
       "      <td>Pope Francis used his annual Christmas Day mes...</td>\n",
       "      <td>News</td>\n",
       "      <td>December 25, 2017</td>\n",
       "      <td>fake</td>\n",
       "    </tr>\n",
       "    <tr>\n",
       "      <th>...</th>\n",
       "      <td>...</td>\n",
       "      <td>...</td>\n",
       "      <td>...</td>\n",
       "      <td>...</td>\n",
       "      <td>...</td>\n",
       "    </tr>\n",
       "    <tr>\n",
       "      <th>44893</th>\n",
       "      <td>'Fully committed' NATO backs new U.S. approach...</td>\n",
       "      <td>BRUSSELS (Reuters) - NATO allies on Tuesday we...</td>\n",
       "      <td>worldnews</td>\n",
       "      <td>August 22, 2017</td>\n",
       "      <td>true</td>\n",
       "    </tr>\n",
       "    <tr>\n",
       "      <th>44894</th>\n",
       "      <td>LexisNexis withdrew two products from Chinese ...</td>\n",
       "      <td>LONDON (Reuters) - LexisNexis, a provider of l...</td>\n",
       "      <td>worldnews</td>\n",
       "      <td>August 22, 2017</td>\n",
       "      <td>true</td>\n",
       "    </tr>\n",
       "    <tr>\n",
       "      <th>44895</th>\n",
       "      <td>Minsk cultural hub becomes haven from authorities</td>\n",
       "      <td>MINSK (Reuters) - In the shadow of disused Sov...</td>\n",
       "      <td>worldnews</td>\n",
       "      <td>August 22, 2017</td>\n",
       "      <td>true</td>\n",
       "    </tr>\n",
       "    <tr>\n",
       "      <th>44896</th>\n",
       "      <td>Vatican upbeat on possibility of Pope Francis ...</td>\n",
       "      <td>MOSCOW (Reuters) - Vatican Secretary of State ...</td>\n",
       "      <td>worldnews</td>\n",
       "      <td>August 22, 2017</td>\n",
       "      <td>true</td>\n",
       "    </tr>\n",
       "    <tr>\n",
       "      <th>44897</th>\n",
       "      <td>Indonesia to buy $1.14 billion worth of Russia...</td>\n",
       "      <td>JAKARTA (Reuters) - Indonesia will buy 11 Sukh...</td>\n",
       "      <td>worldnews</td>\n",
       "      <td>August 22, 2017</td>\n",
       "      <td>true</td>\n",
       "    </tr>\n",
       "  </tbody>\n",
       "</table>\n",
       "<p>44898 rows × 5 columns</p>\n",
       "</div>"
      ],
      "text/plain": [
       "                                                   title  \\\n",
       "0       Donald Trump Sends Out Embarrassing New Year’...   \n",
       "1       Drunk Bragging Trump Staffer Started Russian ...   \n",
       "2       Sheriff David Clarke Becomes An Internet Joke...   \n",
       "3       Trump Is So Obsessed He Even Has Obama’s Name...   \n",
       "4       Pope Francis Just Called Out Donald Trump Dur...   \n",
       "...                                                  ...   \n",
       "44893  'Fully committed' NATO backs new U.S. approach...   \n",
       "44894  LexisNexis withdrew two products from Chinese ...   \n",
       "44895  Minsk cultural hub becomes haven from authorities   \n",
       "44896  Vatican upbeat on possibility of Pope Francis ...   \n",
       "44897  Indonesia to buy $1.14 billion worth of Russia...   \n",
       "\n",
       "                                                    text    subject  \\\n",
       "0      Donald Trump just couldn t wish all Americans ...       News   \n",
       "1      House Intelligence Committee Chairman Devin Nu...       News   \n",
       "2      On Friday, it was revealed that former Milwauk...       News   \n",
       "3      On Christmas day, Donald Trump announced that ...       News   \n",
       "4      Pope Francis used his annual Christmas Day mes...       News   \n",
       "...                                                  ...        ...   \n",
       "44893  BRUSSELS (Reuters) - NATO allies on Tuesday we...  worldnews   \n",
       "44894  LONDON (Reuters) - LexisNexis, a provider of l...  worldnews   \n",
       "44895  MINSK (Reuters) - In the shadow of disused Sov...  worldnews   \n",
       "44896  MOSCOW (Reuters) - Vatican Secretary of State ...  worldnews   \n",
       "44897  JAKARTA (Reuters) - Indonesia will buy 11 Sukh...  worldnews   \n",
       "\n",
       "                    date label  \n",
       "0      December 31, 2017  fake  \n",
       "1      December 31, 2017  fake  \n",
       "2      December 30, 2017  fake  \n",
       "3      December 29, 2017  fake  \n",
       "4      December 25, 2017  fake  \n",
       "...                  ...   ...  \n",
       "44893   August 22, 2017   true  \n",
       "44894   August 22, 2017   true  \n",
       "44895   August 22, 2017   true  \n",
       "44896   August 22, 2017   true  \n",
       "44897   August 22, 2017   true  \n",
       "\n",
       "[44898 rows x 5 columns]"
      ]
     },
     "execution_count": 4,
     "metadata": {},
     "output_type": "execute_result"
    }
   ],
   "source": [
    "fake_nws['label']='fake'\n",
    "true_nws['label']='true'\n",
    "df=pd.concat([fake_nws,true_nws], axis=0, ignore_index=True)\n",
    "df"
   ]
  },
  {
   "cell_type": "markdown",
   "id": "fc81bd78",
   "metadata": {
    "papermill": {
     "duration": 0.017905,
     "end_time": "2023-08-25T14:25:42.617505",
     "exception": false,
     "start_time": "2023-08-25T14:25:42.599600",
     "status": "completed"
    },
    "tags": []
   },
   "source": [
    "# considerig all features "
   ]
  },
  {
   "cell_type": "code",
   "execution_count": 5,
   "id": "2b286525",
   "metadata": {
    "execution": {
     "iopub.execute_input": "2023-08-25T14:25:42.660338Z",
     "iopub.status.busy": "2023-08-25T14:25:42.659305Z",
     "iopub.status.idle": "2023-08-25T14:25:43.168636Z",
     "shell.execute_reply": "2023-08-25T14:25:43.169541Z",
     "shell.execute_reply.started": "2023-08-25T14:18:08.564933Z"
    },
    "papermill": {
     "duration": 0.5347,
     "end_time": "2023-08-25T14:25:43.169741",
     "exception": false,
     "start_time": "2023-08-25T14:25:42.635041",
     "status": "completed"
    },
    "tags": []
   },
   "outputs": [
    {
     "data": {
      "text/html": [
       "<div>\n",
       "<style scoped>\n",
       "    .dataframe tbody tr th:only-of-type {\n",
       "        vertical-align: middle;\n",
       "    }\n",
       "\n",
       "    .dataframe tbody tr th {\n",
       "        vertical-align: top;\n",
       "    }\n",
       "\n",
       "    .dataframe thead th {\n",
       "        text-align: right;\n",
       "    }\n",
       "</style>\n",
       "<table border=\"1\" class=\"dataframe\">\n",
       "  <thead>\n",
       "    <tr style=\"text-align: right;\">\n",
       "      <th></th>\n",
       "      <th>title</th>\n",
       "      <th>text</th>\n",
       "      <th>subject</th>\n",
       "      <th>date</th>\n",
       "      <th>label</th>\n",
       "      <th>text_new</th>\n",
       "    </tr>\n",
       "  </thead>\n",
       "  <tbody>\n",
       "    <tr>\n",
       "      <th>0</th>\n",
       "      <td>Donald Trump Sends Out Embarrassing New Year’...</td>\n",
       "      <td>Donald Trump just couldn t wish all Americans ...</td>\n",
       "      <td>News</td>\n",
       "      <td>December 31, 2017</td>\n",
       "      <td>fake</td>\n",
       "      <td>Donald Trump Sends Out Embarrassing New Year’...</td>\n",
       "    </tr>\n",
       "    <tr>\n",
       "      <th>1</th>\n",
       "      <td>Drunk Bragging Trump Staffer Started Russian ...</td>\n",
       "      <td>House Intelligence Committee Chairman Devin Nu...</td>\n",
       "      <td>News</td>\n",
       "      <td>December 31, 2017</td>\n",
       "      <td>fake</td>\n",
       "      <td>Drunk Bragging Trump Staffer Started Russian ...</td>\n",
       "    </tr>\n",
       "    <tr>\n",
       "      <th>2</th>\n",
       "      <td>Sheriff David Clarke Becomes An Internet Joke...</td>\n",
       "      <td>On Friday, it was revealed that former Milwauk...</td>\n",
       "      <td>News</td>\n",
       "      <td>December 30, 2017</td>\n",
       "      <td>fake</td>\n",
       "      <td>Sheriff David Clarke Becomes An Internet Joke...</td>\n",
       "    </tr>\n",
       "    <tr>\n",
       "      <th>3</th>\n",
       "      <td>Trump Is So Obsessed He Even Has Obama’s Name...</td>\n",
       "      <td>On Christmas day, Donald Trump announced that ...</td>\n",
       "      <td>News</td>\n",
       "      <td>December 29, 2017</td>\n",
       "      <td>fake</td>\n",
       "      <td>Trump Is So Obsessed He Even Has Obama’s Name...</td>\n",
       "    </tr>\n",
       "    <tr>\n",
       "      <th>4</th>\n",
       "      <td>Pope Francis Just Called Out Donald Trump Dur...</td>\n",
       "      <td>Pope Francis used his annual Christmas Day mes...</td>\n",
       "      <td>News</td>\n",
       "      <td>December 25, 2017</td>\n",
       "      <td>fake</td>\n",
       "      <td>Pope Francis Just Called Out Donald Trump Dur...</td>\n",
       "    </tr>\n",
       "    <tr>\n",
       "      <th>...</th>\n",
       "      <td>...</td>\n",
       "      <td>...</td>\n",
       "      <td>...</td>\n",
       "      <td>...</td>\n",
       "      <td>...</td>\n",
       "      <td>...</td>\n",
       "    </tr>\n",
       "    <tr>\n",
       "      <th>44893</th>\n",
       "      <td>'Fully committed' NATO backs new U.S. approach...</td>\n",
       "      <td>BRUSSELS (Reuters) - NATO allies on Tuesday we...</td>\n",
       "      <td>worldnews</td>\n",
       "      <td>August 22, 2017</td>\n",
       "      <td>true</td>\n",
       "      <td>'Fully committed' NATO backs new U.S. approach...</td>\n",
       "    </tr>\n",
       "    <tr>\n",
       "      <th>44894</th>\n",
       "      <td>LexisNexis withdrew two products from Chinese ...</td>\n",
       "      <td>LONDON (Reuters) - LexisNexis, a provider of l...</td>\n",
       "      <td>worldnews</td>\n",
       "      <td>August 22, 2017</td>\n",
       "      <td>true</td>\n",
       "      <td>LexisNexis withdrew two products from Chinese ...</td>\n",
       "    </tr>\n",
       "    <tr>\n",
       "      <th>44895</th>\n",
       "      <td>Minsk cultural hub becomes haven from authorities</td>\n",
       "      <td>MINSK (Reuters) - In the shadow of disused Sov...</td>\n",
       "      <td>worldnews</td>\n",
       "      <td>August 22, 2017</td>\n",
       "      <td>true</td>\n",
       "      <td>Minsk cultural hub becomes haven from authorit...</td>\n",
       "    </tr>\n",
       "    <tr>\n",
       "      <th>44896</th>\n",
       "      <td>Vatican upbeat on possibility of Pope Francis ...</td>\n",
       "      <td>MOSCOW (Reuters) - Vatican Secretary of State ...</td>\n",
       "      <td>worldnews</td>\n",
       "      <td>August 22, 2017</td>\n",
       "      <td>true</td>\n",
       "      <td>Vatican upbeat on possibility of Pope Francis ...</td>\n",
       "    </tr>\n",
       "    <tr>\n",
       "      <th>44897</th>\n",
       "      <td>Indonesia to buy $1.14 billion worth of Russia...</td>\n",
       "      <td>JAKARTA (Reuters) - Indonesia will buy 11 Sukh...</td>\n",
       "      <td>worldnews</td>\n",
       "      <td>August 22, 2017</td>\n",
       "      <td>true</td>\n",
       "      <td>Indonesia to buy $1.14 billion worth of Russia...</td>\n",
       "    </tr>\n",
       "  </tbody>\n",
       "</table>\n",
       "<p>44898 rows × 6 columns</p>\n",
       "</div>"
      ],
      "text/plain": [
       "                                                   title  \\\n",
       "0       Donald Trump Sends Out Embarrassing New Year’...   \n",
       "1       Drunk Bragging Trump Staffer Started Russian ...   \n",
       "2       Sheriff David Clarke Becomes An Internet Joke...   \n",
       "3       Trump Is So Obsessed He Even Has Obama’s Name...   \n",
       "4       Pope Francis Just Called Out Donald Trump Dur...   \n",
       "...                                                  ...   \n",
       "44893  'Fully committed' NATO backs new U.S. approach...   \n",
       "44894  LexisNexis withdrew two products from Chinese ...   \n",
       "44895  Minsk cultural hub becomes haven from authorities   \n",
       "44896  Vatican upbeat on possibility of Pope Francis ...   \n",
       "44897  Indonesia to buy $1.14 billion worth of Russia...   \n",
       "\n",
       "                                                    text    subject  \\\n",
       "0      Donald Trump just couldn t wish all Americans ...       News   \n",
       "1      House Intelligence Committee Chairman Devin Nu...       News   \n",
       "2      On Friday, it was revealed that former Milwauk...       News   \n",
       "3      On Christmas day, Donald Trump announced that ...       News   \n",
       "4      Pope Francis used his annual Christmas Day mes...       News   \n",
       "...                                                  ...        ...   \n",
       "44893  BRUSSELS (Reuters) - NATO allies on Tuesday we...  worldnews   \n",
       "44894  LONDON (Reuters) - LexisNexis, a provider of l...  worldnews   \n",
       "44895  MINSK (Reuters) - In the shadow of disused Sov...  worldnews   \n",
       "44896  MOSCOW (Reuters) - Vatican Secretary of State ...  worldnews   \n",
       "44897  JAKARTA (Reuters) - Indonesia will buy 11 Sukh...  worldnews   \n",
       "\n",
       "                    date label  \\\n",
       "0      December 31, 2017  fake   \n",
       "1      December 31, 2017  fake   \n",
       "2      December 30, 2017  fake   \n",
       "3      December 29, 2017  fake   \n",
       "4      December 25, 2017  fake   \n",
       "...                  ...   ...   \n",
       "44893   August 22, 2017   true   \n",
       "44894   August 22, 2017   true   \n",
       "44895   August 22, 2017   true   \n",
       "44896   August 22, 2017   true   \n",
       "44897   August 22, 2017   true   \n",
       "\n",
       "                                                text_new  \n",
       "0       Donald Trump Sends Out Embarrassing New Year’...  \n",
       "1       Drunk Bragging Trump Staffer Started Russian ...  \n",
       "2       Sheriff David Clarke Becomes An Internet Joke...  \n",
       "3       Trump Is So Obsessed He Even Has Obama’s Name...  \n",
       "4       Pope Francis Just Called Out Donald Trump Dur...  \n",
       "...                                                  ...  \n",
       "44893  'Fully committed' NATO backs new U.S. approach...  \n",
       "44894  LexisNexis withdrew two products from Chinese ...  \n",
       "44895  Minsk cultural hub becomes haven from authorit...  \n",
       "44896  Vatican upbeat on possibility of Pope Francis ...  \n",
       "44897  Indonesia to buy $1.14 billion worth of Russia...  \n",
       "\n",
       "[44898 rows x 6 columns]"
      ]
     },
     "execution_count": 5,
     "metadata": {},
     "output_type": "execute_result"
    }
   ],
   "source": [
    "df['text_new']=df['title']+\" \"+df['text']+\" \"+df['subject']\n",
    "df"
   ]
  },
  {
   "cell_type": "markdown",
   "id": "2051a216",
   "metadata": {
    "papermill": {
     "duration": 0.021462,
     "end_time": "2023-08-25T14:25:43.210117",
     "exception": false,
     "start_time": "2023-08-25T14:25:43.188655",
     "status": "completed"
    },
    "tags": []
   },
   "source": [
    "# **splitting testing and training datasets**"
   ]
  },
  {
   "cell_type": "code",
   "execution_count": 6,
   "id": "4f724fe6",
   "metadata": {
    "execution": {
     "iopub.execute_input": "2023-08-25T14:25:43.254541Z",
     "iopub.status.busy": "2023-08-25T14:25:43.253717Z",
     "iopub.status.idle": "2023-08-25T14:25:43.264477Z",
     "shell.execute_reply": "2023-08-25T14:25:43.263666Z",
     "shell.execute_reply.started": "2023-08-25T14:20:18.437330Z"
    },
    "papermill": {
     "duration": 0.036324,
     "end_time": "2023-08-25T14:25:43.264653",
     "exception": false,
     "start_time": "2023-08-25T14:25:43.228329",
     "status": "completed"
    },
    "tags": []
   },
   "outputs": [],
   "source": [
    "X_train,X_test,y_train,y_test=train_test_split(df['text_new'], df['label'], test_size=0.2)"
   ]
  },
  {
   "cell_type": "code",
   "execution_count": 7,
   "id": "05695008",
   "metadata": {
    "execution": {
     "iopub.execute_input": "2023-08-25T14:25:43.305992Z",
     "iopub.status.busy": "2023-08-25T14:25:43.305194Z",
     "iopub.status.idle": "2023-08-25T14:26:06.308255Z",
     "shell.execute_reply": "2023-08-25T14:26:06.307379Z",
     "shell.execute_reply.started": "2023-08-25T14:20:24.087560Z"
    },
    "papermill": {
     "duration": 23.024976,
     "end_time": "2023-08-25T14:26:06.308429",
     "exception": false,
     "start_time": "2023-08-25T14:25:43.283453",
     "status": "completed"
    },
    "tags": []
   },
   "outputs": [],
   "source": [
    "tfidf=TfidfVectorizer(stop_words='english', max_df=0.7)\n",
    "train=tfidf.fit_transform(X_train) \n",
    "test=tfidf.transform(X_test)"
   ]
  },
  {
   "cell_type": "markdown",
   "id": "103784d2",
   "metadata": {
    "papermill": {
     "duration": 0.017922,
     "end_time": "2023-08-25T14:26:06.344769",
     "exception": false,
     "start_time": "2023-08-25T14:26:06.326847",
     "status": "completed"
    },
    "tags": []
   },
   "source": [
    "# **Using passive Aggressive classifier**"
   ]
  },
  {
   "cell_type": "code",
   "execution_count": 8,
   "id": "650644a0",
   "metadata": {
    "execution": {
     "iopub.execute_input": "2023-08-25T14:26:06.389336Z",
     "iopub.status.busy": "2023-08-25T14:26:06.388503Z",
     "iopub.status.idle": "2023-08-25T14:26:06.946926Z",
     "shell.execute_reply": "2023-08-25T14:26:06.946078Z",
     "shell.execute_reply.started": "2023-08-25T14:22:08.808759Z"
    },
    "papermill": {
     "duration": 0.582919,
     "end_time": "2023-08-25T14:26:06.947097",
     "exception": false,
     "start_time": "2023-08-25T14:26:06.364178",
     "status": "completed"
    },
    "tags": []
   },
   "outputs": [
    {
     "name": "stdout",
     "output_type": "stream",
     "text": [
      "Accuracy: 99.83%\n"
     ]
    }
   ],
   "source": [
    "pac=PassiveAggressiveClassifier(max_iter=50)\n",
    "pac.fit(train,y_train)\n",
    "y_pred=pac.predict(test)\n",
    "score=accuracy_score(y_test,y_pred)\n",
    "print(f'Accuracy: {round(score*100,2)}%')"
   ]
  },
  {
   "cell_type": "code",
   "execution_count": 9,
   "id": "972ae41c",
   "metadata": {
    "execution": {
     "iopub.execute_input": "2023-08-25T14:26:06.997151Z",
     "iopub.status.busy": "2023-08-25T14:26:06.996342Z",
     "iopub.status.idle": "2023-08-25T14:26:07.058596Z",
     "shell.execute_reply": "2023-08-25T14:26:07.057813Z",
     "shell.execute_reply.started": "2023-08-25T14:22:14.626699Z"
    },
    "papermill": {
     "duration": 0.092904,
     "end_time": "2023-08-25T14:26:07.058765",
     "exception": false,
     "start_time": "2023-08-25T14:26:06.965861",
     "status": "completed"
    },
    "tags": []
   },
   "outputs": [
    {
     "data": {
      "text/plain": [
       "array([[4579,   10],\n",
       "       [   5, 4386]])"
      ]
     },
     "execution_count": 9,
     "metadata": {},
     "output_type": "execute_result"
    }
   ],
   "source": [
    "confusion_matrix(y_test,y_pred)"
   ]
  },
  {
   "cell_type": "code",
   "execution_count": 10,
   "id": "3762dd24",
   "metadata": {
    "execution": {
     "iopub.execute_input": "2023-08-25T14:26:07.112082Z",
     "iopub.status.busy": "2023-08-25T14:26:07.110941Z",
     "iopub.status.idle": "2023-08-25T14:26:07.559662Z",
     "shell.execute_reply": "2023-08-25T14:26:07.560263Z",
     "shell.execute_reply.started": "2023-08-25T14:22:19.724876Z"
    },
    "papermill": {
     "duration": 0.482064,
     "end_time": "2023-08-25T14:26:07.560539",
     "exception": false,
     "start_time": "2023-08-25T14:26:07.078475",
     "status": "completed"
    },
    "tags": []
   },
   "outputs": [
    {
     "data": {
      "text/plain": [
       "'              precision    recall  f1-score   support\\n\\n        fake       1.00      1.00      1.00      4589\\n        true       1.00      1.00      1.00      4391\\n\\n    accuracy                           1.00      8980\\n   macro avg       1.00      1.00      1.00      8980\\nweighted avg       1.00      1.00      1.00      8980\\n'"
      ]
     },
     "execution_count": 10,
     "metadata": {},
     "output_type": "execute_result"
    }
   ],
   "source": [
    "classification_report(y_test,y_pred)"
   ]
  },
  {
   "cell_type": "code",
   "execution_count": null,
   "id": "eb1e41cf",
   "metadata": {
    "papermill": {
     "duration": 0.019966,
     "end_time": "2023-08-25T14:26:07.600775",
     "exception": false,
     "start_time": "2023-08-25T14:26:07.580809",
     "status": "completed"
    },
    "tags": []
   },
   "outputs": [],
   "source": []
  }
 ],
 "metadata": {
  "kernelspec": {
   "display_name": "Python 3",
   "language": "python",
   "name": "python3"
  },
  "language_info": {
   "codemirror_mode": {
    "name": "ipython",
    "version": 3
   },
   "file_extension": ".py",
   "mimetype": "text/x-python",
   "name": "python",
   "nbconvert_exporter": "python",
   "pygments_lexer": "ipython3",
   "version": "3.7.10"
  },
  "papermill": {
   "default_parameters": {},
   "duration": 40.917646,
   "end_time": "2023-08-25T14:26:09.049656",
   "environment_variables": {},
   "exception": null,
   "input_path": "__notebook__.ipynb",
   "output_path": "__notebook__.ipynb",
   "parameters": {},
   "start_time": "2023-08-25T14:25:28.132010",
   "version": "2.3.3"
  }
 },
 "nbformat": 4,
 "nbformat_minor": 5
}
